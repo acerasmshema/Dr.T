{
 "cells": [
  {
   "cell_type": "code",
   "execution_count": 7,
   "metadata": {},
   "outputs": [],
   "source": [
    "import geopandas as gpanda"
   ]
  },
  {
   "cell_type": "code",
   "execution_count": 8,
   "metadata": {},
   "outputs": [],
   "source": [
    "import csv, os, sys"
   ]
  },
  {
   "cell_type": "code",
   "execution_count": 9,
   "metadata": {},
   "outputs": [],
   "source": [
    "filename2 = r'C:\\Aceras\\UAVImaging\\Database\\Shapefiles_16th_Jan_2020\\PEN\\PEN.shp'"
   ]
  },
  {
   "cell_type": "code",
   "execution_count": 10,
   "metadata": {},
   "outputs": [],
   "source": [
    "dirpath=r'C:\\Aceras\\UAVImaging\\Database\\Shapefiles_16th_Jan_2020\\PEN' "
   ]
  },
  {
   "cell_type": "code",
   "execution_count": 13,
   "metadata": {},
   "outputs": [],
   "source": [
    "oath ='.'\n",
    "if len(sys.argv)==2:\n",
    "    dirpath = sys.argv[1]"
   ]
  },
  {
   "cell_type": "code",
   "execution_count": 14,
   "metadata": {},
   "outputs": [
    {
     "ename": "FileNotFoundError",
     "evalue": "[WinError 3] The system cannot find the path specified: '-f'",
     "output_type": "error",
     "traceback": [
      "\u001b[1;31m---------------------------------------------------------------------------\u001b[0m",
      "\u001b[1;31mFileNotFoundError\u001b[0m                         Traceback (most recent call last)",
      "\u001b[1;32m<ipython-input-14-e66ff9844b9f>\u001b[0m in \u001b[0;36m<module>\u001b[1;34m()\u001b[0m\n\u001b[1;32m----> 1\u001b[1;33m \u001b[1;32mfor\u001b[0m \u001b[0meachdir\u001b[0m \u001b[1;32min\u001b[0m \u001b[0mos\u001b[0m\u001b[1;33m.\u001b[0m\u001b[0mlistdir\u001b[0m\u001b[1;33m(\u001b[0m\u001b[0mpath\u001b[0m\u001b[1;33m)\u001b[0m\u001b[1;33m:\u001b[0m\u001b[1;33m\u001b[0m\u001b[1;33m\u001b[0m\u001b[0m\n\u001b[0m\u001b[0;32m      2\u001b[0m     \u001b[0mprint\u001b[0m\u001b[1;33m(\u001b[0m\u001b[0meachdir\u001b[0m\u001b[1;33m)\u001b[0m\u001b[1;33m\u001b[0m\u001b[1;33m\u001b[0m\u001b[0m\n",
      "\u001b[1;31mFileNotFoundError\u001b[0m: [WinError 3] The system cannot find the path specified: '-f'"
     ]
    }
   ],
   "source": [
    "for eachdir in os.listdir(path):\n",
    "    print(eachdir)"
   ]
  },
  {
   "cell_type": "code",
   "execution_count": 5,
   "metadata": {},
   "outputs": [],
   "source": [
    "data = gpanda.read_file(filename2)"
   ]
  },
  {
   "cell_type": "code",
   "execution_count": 22,
   "metadata": {},
   "outputs": [
    {
     "data": {
      "text/plain": [
       "<bound method NDFrame.as_matrix of        FEATID ESTATE FEATNO    COMPID  \\\n",
       "0     ADB0105     AA    005  PENAA005   \n",
       "1     ADB0106     AA    006  PENAA006   \n",
       "2     ADB0107     AA    007  PENAA007   \n",
       "3     ADB0108     AA    008  PENAA008   \n",
       "4     ADB0115     AA    015  PENAA015   \n",
       "...       ...    ...    ...       ...   \n",
       "1968  RDQ2751      P    751   PENP751   \n",
       "1969  RDQ4475      L    475   PENL475   \n",
       "1970  RDQ4478      O    478   PENO478   \n",
       "1971  RDQ4479      P    479   PENP479   \n",
       "1972  RDQ4752      O    752   PENO752   \n",
       "\n",
       "                                               geometry  \n",
       "0     POLYGON ((829579.642 59417.859, 829587.231 594...  \n",
       "1     POLYGON ((829983.395 58669.703, 829999.132 586...  \n",
       "2     POLYGON ((829951.769 58608.813, 829952.739 586...  \n",
       "3     POLYGON ((828984.062 57215.759, 828973.647 572...  \n",
       "4     POLYGON ((828517.782 60414.837, 828520.429 604...  \n",
       "...                                                 ...  \n",
       "1968  MULTIPOLYGON (((858703.873 55152.369, 858696.5...  \n",
       "1969  MULTIPOLYGON (((856331.994 54807.188, 856270.4...  \n",
       "1970  MULTIPOLYGON (((864181.016 55432.209, 864162.3...  \n",
       "1971  MULTIPOLYGON (((858190.039 54802.814, 859163.9...  \n",
       "1972  MULTIPOLYGON (((862082.653 54810.077, 862066.9...  \n",
       "\n",
       "[1973 rows x 5 columns]>"
      ]
     },
     "execution_count": 22,
     "metadata": {},
     "output_type": "execute_result"
    }
   ],
   "source": [
    "data.as_matrix"
   ]
  },
  {
   "cell_type": "code",
   "execution_count": 28,
   "metadata": {},
   "outputs": [],
   "source": [
    "filename_data='shapeFile_newHema.csv'\n",
    "data.to_csv(filename_data, sep='\\t', encoding='utf-8')"
   ]
  },
  {
   "cell_type": "code",
   "execution_count": null,
   "metadata": {},
   "outputs": [],
   "source": []
  }
 ],
 "metadata": {
  "kernelspec": {
   "display_name": "Python 3",
   "language": "python",
   "name": "python3"
  },
  "language_info": {
   "codemirror_mode": {
    "name": "ipython",
    "version": 3
   },
   "file_extension": ".py",
   "mimetype": "text/x-python",
   "name": "python",
   "nbconvert_exporter": "python",
   "pygments_lexer": "ipython3",
   "version": "3.7.5"
  }
 },
 "nbformat": 4,
 "nbformat_minor": 2
}
